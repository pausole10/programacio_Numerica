{
 "cells": [
  {
   "cell_type": "code",
   "execution_count": 44,
   "id": "a133d070",
   "metadata": {},
   "outputs": [
    {
     "name": "stdout",
     "output_type": "stream",
     "text": [
      "Ingrese cuantos numeros aleatorios desea obtener\n",
      "10\n",
      "[10, 4, 5, 9, 10, 0, 4, 2, 10, 2]\n"
     ]
    }
   ],
   "source": [
    "#Crea una funció que donat un Array d’una dimensió, et faci un resum estadístic bàsic de les dades. Si detecta que\n",
    "#l’array té més d’una dimensió, ha de mostrar un missatge d’error.\n",
    "\n",
    "import numpy as np\n",
    "import pandas as pd\n",
    "import matplotlib.pyplot as plt\n",
    "\n",
    "def listaAleatorios(n):\n",
    "    import random\n",
    "    lista = [0]  * n\n",
    "    for i in range(n):\n",
    "          lista[i] = random.randint(0, 10)\n",
    "    return lista\n",
    "\n",
    "print(\"Ingrese cuantos numeros aleatorios desea obtener\")\n",
    "n=int(input())\n",
    "\n",
    "aleatorios=listaAleatorios(n)\n",
    "print(aleatorios)\n",
    "\n",
    "\n",
    "\n",
    "    \n"
   ]
  },
  {
   "cell_type": "code",
   "execution_count": 3,
   "id": "6fdd17b8",
   "metadata": {},
   "outputs": [
    {
     "name": "stdout",
     "output_type": "stream",
     "text": [
      "[6 0 9 9 7 3 2 3 5 9]\n",
      "[6 0 9 9 7 3 2 3 5 9]\n"
     ]
    }
   ],
   "source": [
    "def func():\n",
    "    arr = np.array(aleatorios)\n",
    "    print(arr)\n",
    "    \n",
    "func()   \n",
    "\n",
    "arr = np.array(aleatorios)\n",
    "print(arr)\n",
    "\n"
   ]
  },
  {
   "cell_type": "code",
   "execution_count": 4,
   "id": "86327c67",
   "metadata": {},
   "outputs": [],
   "source": [
    "if arr.ndim>1:\n",
    "    print(\"No pot tenir més d'una dimensió\")\n",
    "\n",
    "    "
   ]
  },
  {
   "cell_type": "code",
   "execution_count": 5,
   "id": "6e5c5a37",
   "metadata": {},
   "outputs": [
    {
     "name": "stdout",
     "output_type": "stream",
     "text": [
      "El teu array té 1 dimensió\n"
     ]
    }
   ],
   "source": [
    "dimArray= (arr.ndim) \n",
    "\n",
    "print(\"El teu array té \"+ str(dimArray)+ \" dimensió\")\n"
   ]
  },
  {
   "cell_type": "code",
   "execution_count": 6,
   "id": "1c524a08",
   "metadata": {},
   "outputs": [
    {
     "name": "stdout",
     "output_type": "stream",
     "text": [
      "18\n",
      "[0 9 9 7]\n",
      "[7 3 2 3 5 9]\n",
      "[3 5]\n",
      "[0 9]\n",
      "int32\n"
     ]
    }
   ],
   "source": [
    "#Crides de diferents maneres de l'array analitzant la informació que ens podria interessar.\n",
    "print(arr[2] + arr[3])\n",
    "print(arr[1:5])\n",
    "print(arr[4:])\n",
    "print(arr[-3:-1])\n",
    "print(arr[1:5:2])\n",
    "\n",
    "print(arr.dtype)\n"
   ]
  },
  {
   "cell_type": "code",
   "execution_count": 7,
   "id": "777a7c71",
   "metadata": {},
   "outputs": [
    {
     "name": "stdout",
     "output_type": "stream",
     "text": [
      "[42  0  9  9  7  3  2  3  5  9]\n",
      "[6 0 9 9 7 3 2 3 5 9]\n"
     ]
    }
   ],
   "source": [
    "#Copy, no canvia l'original\n",
    "x = arr.copy()\n",
    "arr[0] = 42\n",
    "\n",
    "print(arr)\n",
    "print(x)"
   ]
  },
  {
   "cell_type": "code",
   "execution_count": 8,
   "id": "ab309e4f",
   "metadata": {},
   "outputs": [
    {
     "name": "stdout",
     "output_type": "stream",
     "text": [
      "[42 33  9  9  7  3  2  3  5  9]\n",
      "[6 0 9 9 7 3 2 3 5 9]\n",
      "None\n",
      "[42 33  9  9  7  3  2  3  5  9]\n"
     ]
    }
   ],
   "source": [
    "#view, canvia l'original\n",
    "y = arr.view()\n",
    "arr[1] = 33\n",
    "\n",
    "print(arr)\n",
    "print(x)\n",
    "\n",
    "\n",
    "print(x.base)\n",
    "print(y.base)"
   ]
  },
  {
   "cell_type": "code",
   "execution_count": 9,
   "id": "948024f7",
   "metadata": {},
   "outputs": [
    {
     "name": "stdout",
     "output_type": "stream",
     "text": [
      "12.2\n",
      "8.0\n",
      "13.052202879207785\n",
      "2\n",
      "42\n",
      "10\n",
      "[42 33  9  9  7  3  2  3  5  9]\n",
      "[-0.91652155  0.99991186  0.41211849  0.41211849  0.6569866   0.14112001\n",
      "  0.90929743  0.14112001 -0.95892427  0.41211849]\n",
      "[-0.39998531 -0.01327675 -0.91113026 -0.91113026  0.75390225 -0.9899925\n",
      " -0.41614684 -0.9899925   0.28366219 -0.91113026]\n",
      "[  2.29138799 -75.3130148   -0.45231566  -0.45231566   0.87144798\n",
      "  -0.14254654  -2.18503986  -0.14254654  -3.38051501  -0.45231566]\n",
      "1.0\n",
      "[0.73303829 0.57595865 0.15707963 0.15707963 0.12217305 0.05235988\n",
      " 0.03490659 0.05235988 0.08726646 0.15707963]\n",
      "53.41348144429457\n",
      "[8.69637471e+17 1.07321790e+14 4.05154203e+03 4.05154203e+03\n",
      " 5.48317035e+02 1.00676620e+01 3.76219569e+00 1.00676620e+01\n",
      " 7.42099485e+01 4.05154203e+03]\n",
      "[ 2  3  5  7  9 33 42]\n",
      "63\n",
      "2\n",
      "[ -9 -24   0  -2  -4  -1   1   2   4]\n"
     ]
    }
   ],
   "source": [
    "aa = np.mean(arr)\n",
    "print(aa)\n",
    "\n",
    "bb=np.median(arr)\n",
    "print(bb)\n",
    "\n",
    "cc = np.std(arr)\n",
    "print(cc)\n",
    "\n",
    "dd= np.min(arr)\n",
    "print(dd)\n",
    "\n",
    "ee = np.max(arr)\n",
    "print(ee)\n",
    "\n",
    "ff= np.count_nonzero(arr)\n",
    "print(ff)\n",
    "\n",
    "gg= np.abs(arr)\n",
    "print(gg)\n",
    "\n",
    "hh= np.sin(arr)\n",
    "print(hh)\n",
    "\n",
    "ii= np.cos(arr)\n",
    "print(ii)\n",
    "\n",
    "jj= np.tan(arr)\n",
    "print(jj)\n",
    "\n",
    "kk = np.sin(np.pi/2)\n",
    "print(kk)\n",
    "\n",
    "ll= np.deg2rad(arr)\n",
    "print(ll)\n",
    "\n",
    "nn = np.hypot(arr[0], arr[1])\n",
    "print(nn)\n",
    "\n",
    "oo = np.cosh(arr)\n",
    "print(oo)\n",
    "\n",
    "pp  = np.unique(arr)\n",
    "print(pp)\n",
    "\n",
    "qq= np.lcm(arr[4], arr[3])\n",
    "print(qq)\n",
    "\n",
    "rr = np.gcd(arr[0], arr[6])\n",
    "print(rr)\n",
    "\n",
    "newarr = np.diff(arr)\n",
    "\n",
    "print(newarr)"
   ]
  },
  {
   "cell_type": "code",
   "execution_count": 10,
   "id": "e2ae9ff3",
   "metadata": {},
   "outputs": [
    {
     "name": "stdout",
     "output_type": "stream",
     "text": [
      "b'42'\n",
      "b'33'\n",
      "b'9'\n",
      "b'9'\n",
      "b'7'\n",
      "b'3'\n",
      "b'2'\n",
      "b'3'\n",
      "b'5'\n",
      "b'9'\n"
     ]
    }
   ],
   "source": [
    "\n",
    "for x in np.nditer(arr, flags=['buffered'], op_dtypes=['S']):\n",
    "    print(x)"
   ]
  },
  {
   "cell_type": "code",
   "execution_count": 17,
   "id": "90223652",
   "metadata": {},
   "outputs": [
    {
     "name": "stdout",
     "output_type": "stream",
     "text": [
      "(0,) 42\n",
      "(1,) 33\n",
      "(2,) 10\n",
      "(3,) 1\n",
      "(4,) 9\n",
      "(5,) 8\n",
      "(6,) 1\n",
      "(7,) 6\n",
      "(8,) 8\n",
      "(9,) 7\n"
     ]
    }
   ],
   "source": [
    "for idx, x in np.ndenumerate(arr):\n",
    "    print(idx, x)"
   ]
  },
  {
   "cell_type": "code",
   "execution_count": 11,
   "id": "f1189f41",
   "metadata": {},
   "outputs": [
    {
     "name": "stdout",
     "output_type": "stream",
     "text": [
      "42\n",
      "33\n",
      "9\n",
      "9\n",
      "7\n",
      "3\n",
      "2\n",
      "3\n",
      "5\n",
      "9\n"
     ]
    }
   ],
   "source": [
    "for x in np.nditer(arr):\n",
    "    print(x)"
   ]
  },
  {
   "cell_type": "code",
   "execution_count": 12,
   "id": "86e8898e",
   "metadata": {},
   "outputs": [
    {
     "name": "stdout",
     "output_type": "stream",
     "text": [
      "[ 2  3  3  5  7  9  9  9 33 42]\n",
      "(array([], dtype=int64),)\n",
      "(array([0, 6], dtype=int64),)\n",
      "(array([1, 2, 3, 4, 5, 7, 8, 9], dtype=int64),)\n",
      "9\n",
      "0\n",
      "[0 8 9]\n",
      "10\n"
     ]
    }
   ],
   "source": [
    "print(np.sort(arr))\n",
    "\n",
    "a = np.where(arr == 4)\n",
    "b = np.where(arr%2 == 0)\n",
    "c = np.where(arr%2 == 1)\n",
    "d = np.searchsorted(arr, 7)\n",
    "e = np.searchsorted(arr, 1, side='right')\n",
    "f= x = np.searchsorted(arr, [3, 5, 8])\n",
    "g= np.searchsorted(arr, 10)\n",
    "\n",
    "\n",
    "print(a)\n",
    "print(b)\n",
    "print(c)\n",
    "print(d)\n",
    "print(e)\n",
    "print(f)\n",
    "print(g)"
   ]
  },
  {
   "cell_type": "code",
   "execution_count": 13,
   "id": "96809051",
   "metadata": {},
   "outputs": [
    {
     "name": "stdout",
     "output_type": "stream",
     "text": [
      "[42  9  3  2  5]\n"
     ]
    }
   ],
   "source": [
    "np.sort(arr)\n",
    "h = [True, False, True, False, False, True, True, False, True,False]\n",
    "\n",
    "newArr = arr[h]\n",
    "\n",
    "print(newArr)"
   ]
  },
  {
   "cell_type": "code",
   "execution_count": 14,
   "id": "8509199c",
   "metadata": {},
   "outputs": [
    {
     "name": "stdout",
     "output_type": "stream",
     "text": [
      "[42 33  9  9  7  9]\n",
      "[True, True, True, True, True, False, False, False, False, True]\n"
     ]
    }
   ],
   "source": [
    "newList= []\n",
    "\n",
    "for i in arr:\n",
    "    if i > 5:\n",
    "        newList.append(True)\n",
    "    else:\n",
    "        newList.append(False)\n",
    "        \n",
    "newArray = arr[newList]\n",
    "print(newArray)\n",
    "print(newList)\n"
   ]
  },
  {
   "cell_type": "code",
   "execution_count": 15,
   "id": "2da7820d",
   "metadata": {},
   "outputs": [
    {
     "name": "stdout",
     "output_type": "stream",
     "text": [
      "[42  2]\n",
      "[True, False, False, False, False, False, True, False, False, False]\n"
     ]
    }
   ],
   "source": [
    "filtering = []\n",
    "\n",
    "for x in arr:\n",
    "    if x % 2 == 0:  \n",
    "        filtering.append(True)\n",
    "    else:\n",
    "        filtering.append(False)\n",
    "\n",
    "newFilter = arr[filtering]\n",
    "print(newFilter)\n",
    "print(filtering)\n"
   ]
  },
  {
   "cell_type": "code",
   "execution_count": 16,
   "id": "228e1d41",
   "metadata": {},
   "outputs": [
    {
     "name": "stdout",
     "output_type": "stream",
     "text": [
      "[[92 38 37 33 24]\n",
      " [66 82  3 95 12]\n",
      " [31 38 42 39 10]\n",
      " [42 24  1 53 78]\n",
      " [32 14 97 59 53]]\n",
      "    0   1   2   3   4\n",
      "0  92  38  37  33  24\n",
      "1  66  82   3  95  12\n",
      "2  31  38  42  39  10\n",
      "3  42  24   1  53  78\n",
      "4  32  14  97  59  53\n"
     ]
    }
   ],
   "source": [
    "#Crea un quadrat de XperX amb nums aleatoris de 0 a 100\n",
    "\n",
    "from numpy import random\n",
    "import pandas as pd\n",
    "\n",
    "quadrat = random.randint(100, size=(5, 5))\n",
    "\n",
    "print(quadrat)\n",
    "df = pd.DataFrame(quadrat)\n",
    "print(df)"
   ]
  },
  {
   "cell_type": "code",
   "execution_count": 17,
   "id": "0102c3b9",
   "metadata": {},
   "outputs": [
    {
     "name": "stdout",
     "output_type": "stream",
     "text": [
      "[[19 74 51 51 65]\n",
      " [ 6 22 46 75 65]]\n"
     ]
    }
   ],
   "source": [
    "#Crea una funció que donada una taula de dues dimensions, et calculi els totals per fila i els totals per columna.\n",
    "\n",
    "from numpy import random\n",
    "\n",
    "nouArr = random.randint(100, size=(2, 5))\n",
    "\n",
    "print(nouArr)"
   ]
  },
  {
   "cell_type": "code",
   "execution_count": 18,
   "id": "3695906f",
   "metadata": {},
   "outputs": [
    {
     "name": "stdout",
     "output_type": "stream",
     "text": [
      "    0   1   2   3   4\n",
      "x  19  74  51  51  65\n",
      "y   6  22  46  75  65\n",
      "Column 1 sum: 25\n",
      "Colum 2 sum: 96\n",
      "Colum 3 sum: 97\n",
      "Colum 4 sum: 126\n",
      "Colum 5 sum: 130\n",
      "[260 214]\n"
     ]
    }
   ],
   "source": [
    "\n",
    "dff= pd.DataFrame((nouArr),\n",
    "index= ['x', 'y'])\n",
    "print(dff)\n",
    "\n",
    "#Columnes\n",
    "Total = dff[0].sum()\n",
    "print (\"Column 1 sum:\",Total)\n",
    "\n",
    "total2 = dff[1].sum()\n",
    "print(\"Colum 2 sum:\", total2)\n",
    "\n",
    "total3 = dff[2].sum()\n",
    "print(\"Colum 3 sum:\", total3)\n",
    "\n",
    "total4 = dff[3].sum()\n",
    "print(\"Colum 4 sum:\", total4)\n",
    "\n",
    "total5= dff[4].sum()\n",
    "print(\"Colum 5 sum:\", total5)\n",
    "\n",
    "#Files\n",
    "\n",
    "totalFila = np.sum(nouArr, axis=1)\n",
    "print(totalFila)"
   ]
  },
  {
   "cell_type": "code",
   "execution_count": 48,
   "id": "deb5c69c",
   "metadata": {},
   "outputs": [
    {
     "name": "stdout",
     "output_type": "stream",
     "text": [
      "    0   1\n",
      "0  19   6\n",
      "1  74  22\n",
      "2  51  46\n",
      "3  51  75\n",
      "4  65  65\n",
      "    x   y\n",
      "0  19   6\n",
      "1  74  22\n",
      "2  51  46\n",
      "3  51  75\n",
      "4  65  65\n",
      "x, x : 1.0\n",
      "x, y : 0.4193095821245791\n",
      "x, corrn : -0.03703409175535179\n",
      "x, corr1 : -0.6032181834082021\n",
      "x, corr2 : -0.9624622936598533\n",
      "y, x : 0.4193095821245791\n",
      "y, y : 1.0\n",
      "y, corrn : -0.008949488920798441\n",
      "y, corr1 : -0.23653672850418583\n",
      "y, corr2 : -0.49657622250809147\n",
      "corrn, x : 0.0363930062914001\n",
      "corrn, y : -0.04754657923169269\n",
      "corrn, corrn : 1.6263676734041405e-19\n",
      "corrn, corr1 : 0.0\n",
      "corrn, corr2 : 0.0\n",
      "corr1, x : nan\n",
      "corr1, y : nan\n",
      "corr1, corrn : nan\n",
      "corr1, corr1 : nan\n",
      "corr1, corr2 : nan\n",
      "corr2, x : nan\n",
      "corr2, y : -0.8766648948633549\n",
      "corr2, corrn : -0.0019812140398738423\n",
      "corr2, corr1 : 1.2420026740645948e-22\n",
      "corr2, corr2 : 1.0\n"
     ]
    },
    {
     "data": {
      "text/plain": [
       "<matplotlib.image.AxesImage at 0x1e31a11b0a0>"
      ]
     },
     "execution_count": 48,
     "metadata": {},
     "output_type": "execute_result"
    },
    {
     "data": {
      "image/png": "[encoded data removed]",
      "text/plain": [
       "<Figure size 432x288 with 1 Axes>"
      ]
     },
     "metadata": {
      "needs_background": "light"
     },
     "output_type": "display_data"
    },
    {
     "data": {
      "image/png": "[encoded data removed]",
      "text/plain": [
       "<Figure size 288x288 with 1 Axes>"
      ]
     },
     "metadata": {
      "needs_background": "light"
     },
     "output_type": "display_data"
    }
   ],
   "source": [
    "#Implementa manualment una funció que calculi el coeficient de correlació.\n",
    "#Informa’t-en sobre els seus usos i interpretació.\n",
    "\n",
    "nouArr1 = nouArr.transpose()\n",
    "nouArr1 = pd.DataFrame(nouArr1)\n",
    "print(nouArr1)\n",
    "nouArr1.columns = ['x', 'y']\n",
    "print(nouArr1)\n",
    "\n",
    "def corr_coeff(dataFrame, var1, var2):\n",
    "    dataFrame[\"corrn\"] = (dataFrame[var1] - np.mean(dataFrame[var1])) * (dataFrame[var2] - np.mean(dataFrame[var2]))\n",
    "    dataFrame[\"corr1\"] = (dataFrame[var1] - np.mean(dataFrame[var1])) ** 2\n",
    "    dataFrame[\"corr2\"] = (dataFrame[var2] - np.mean(dataFrame[var2])) ** 2\n",
    "    coeficienteCorrelacionPearson = sum(dataFrame[\"corrn\"]) / np.sqrt(sum(dataFrame[\"corr1\"]) * sum(dataFrame[\"corr2\"]))\n",
    "    return coeficienteCorrelacionPearson\n",
    "\n",
    "corr_coeff(nouArr1, \"x\", \"y\")\n",
    "\n",
    "cols = nouArr1.columns.values\n",
    "for x in cols:\n",
    "    for y in cols:\n",
    "        print(x + \", \" + y + \" : \" + str(corr_coeff(nouArr1, x, y)))\n",
    "\n",
    "\n",
    "\n",
    "        \n",
    "plt.plot(nouArr1[\"x\"], nouArr1[\"y\"], \"ro\")\n",
    "plt.title(\"Correlació entre x i y\")\n",
    "\n",
    "nouArr1.corr()\n",
    "\n",
    "plt.matshow(nouArr1.corr())\n",
    "\n",
    "#El coeficiente de correlación de Pearson mide la asociación lineal entre variables. Su valor se puede interpretar así:\n",
    "\n",
    "#+1 – Correlación positiva completa\n",
    "#+0,8 – Fuerte correlación positiva\n",
    "#+0,6 – Correlación positiva moderada\n",
    "#0 – sin correlación alguna\n",
    "#-0,6 – Correlación negativa moderada\n",
    "#-0,8 – Fuerte correlación negativa\n",
    "#-1 – Correlación negativa completa\n",
    "\n",
    "\n",
    "\n",
    "#L'entrada per aquesta funció sol ser una matriu d'un tamany mxn on: \n",
    "#Cada columna representa els valors d'una variable aleatoria\n",
    "#Cada fila representa una sola mostra de n variables aleatories\n",
    "#n representa el número total de diferents variables aleatories\n",
    "#m representa el número total de mostres per cada variable\n",
    "\n",
    "#Totes les entrades diagonals són 1 perquè perque el coeficient de correlació d'una variable amb ella mateixa sempre\n",
    "#donarà aquest valor. Les diagonals solen ser iguals entre elles.\n",
    "\n",
    "#Primer tenim una correlació completament positiva entre dues variables (+1)\n",
    "#Després l'altre coeficient de correlació hauria de ser proper a 0. \n",
    "\n",
    "#El primer rand.uniform() La trucada genera una distribucio uniforme aleatoria.\n",
    "# I vstack() apila verticalment altres matrius en ell. Així podrem accedir seqüencialment.  \n",
    "\n",
    "#el segon te una relació positiva completa amb el primer, el tercer té una correlació negativa \n",
    "#completa amb el primer i el quart és completament aleatori. Hauria de tenir una correlació de ~ 0."
   ]
  }
 ],
 "metadata": {
  "kernelspec": {
   "display_name": "Python 3 (ipykernel)",
   "language": "python",
   "name": "python3"
  },
  "language_info": {
   "codemirror_mode": {
    "name": "ipython",
    "version": 3
   },
   "file_extension": ".py",
   "mimetype": "text/x-python",
   "name": "python",
   "nbconvert_exporter": "python",
   "pygments_lexer": "ipython3",
   "version": "3.9.7"
  }
 },
 "nbformat": 4,
 "nbformat_minor": 5
}
