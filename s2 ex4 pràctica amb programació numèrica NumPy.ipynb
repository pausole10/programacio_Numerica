{
 "cells": [
  {
   "cell_type": "code",
   "execution_count": 3,
   "id": "a133d070",
   "metadata": {},
   "outputs": [
    {
     "name": "stdout",
     "output_type": "stream",
     "text": [
      "Ingrese cuantos numeros aleatorios desea obtener\n",
      "10\n",
      "[0, 3, 10, 1, 9, 8, 1, 6, 8, 7]\n"
     ]
    }
   ],
   "source": [
    "#Crea una funció que donat un Array d’una dimensió, et faci un resum estadístic bàsic de les dades. Si detecta que\n",
    "#l’array té més d’una dimensió, ha de mostrar un missatge d’error.\n",
    "\n",
    "import numpy as np\n",
    "import pandas as pd\n",
    "\n",
    "def listaAleatorios(n):\n",
    "    import random\n",
    "    lista = [0]  * n\n",
    "    for i in range(n):\n",
    "          lista[i] = random.randint(0, 10)\n",
    "    return lista\n",
    "\n",
    "print(\"Ingrese cuantos numeros aleatorios desea obtener\")\n",
    "n=int(input())\n",
    "\n",
    "aleatorios=listaAleatorios(n)\n",
    "print(aleatorios)\n",
    "\n",
    "\n",
    "\n",
    "    \n"
   ]
  },
  {
   "cell_type": "code",
   "execution_count": 7,
   "id": "6fdd17b8",
   "metadata": {},
   "outputs": [
    {
     "name": "stdout",
     "output_type": "stream",
     "text": [
      "[ 0  3 10  1  9  8  1  6  8  7]\n",
      "[ 0  3 10  1  9  8  1  6  8  7]\n"
     ]
    }
   ],
   "source": [
    "def func():\n",
    "    arr = np.array(aleatorios)\n",
    "    print(arr)\n",
    "    \n",
    "func()   \n",
    "\n",
    "arr = np.array(aleatorios)\n",
    "print(arr)\n",
    "\n"
   ]
  },
  {
   "cell_type": "code",
   "execution_count": 9,
   "id": "86327c67",
   "metadata": {},
   "outputs": [],
   "source": [
    "if arr.ndim>1:\n",
    "    print(\"No pot tenir més d'una dimensió\")\n",
    "\n",
    "    "
   ]
  },
  {
   "cell_type": "code",
   "execution_count": 10,
   "id": "6e5c5a37",
   "metadata": {},
   "outputs": [
    {
     "name": "stdout",
     "output_type": "stream",
     "text": [
      "El teu array té 1 dimensió\n"
     ]
    }
   ],
   "source": [
    "dimArray= (arr.ndim) \n",
    "\n",
    "print(\"El teu array té \"+ str(dimArray)+ \" dimensió\")\n"
   ]
  },
  {
   "cell_type": "code",
   "execution_count": 11,
   "id": "1c524a08",
   "metadata": {},
   "outputs": [
    {
     "name": "stdout",
     "output_type": "stream",
     "text": [
      "11\n",
      "[ 3 10  1  9]\n",
      "[9 8 1 6 8 7]\n",
      "[6 8]\n",
      "[3 1]\n",
      "int32\n"
     ]
    }
   ],
   "source": [
    "#Crides de diferents maneres de l'array analitzant la informació que ens podria interessar.\n",
    "print(arr[2] + arr[3])\n",
    "print(arr[1:5])\n",
    "print(arr[4:])\n",
    "print(arr[-3:-1])\n",
    "print(arr[1:5:2])\n",
    "\n",
    "print(arr.dtype)\n"
   ]
  },
  {
   "cell_type": "code",
   "execution_count": 12,
   "id": "777a7c71",
   "metadata": {},
   "outputs": [
    {
     "name": "stdout",
     "output_type": "stream",
     "text": [
      "[42  3 10  1  9  8  1  6  8  7]\n",
      "[ 0  3 10  1  9  8  1  6  8  7]\n"
     ]
    }
   ],
   "source": [
    "#Copy, no canvia l'original\n",
    "x = arr.copy()\n",
    "arr[0] = 42\n",
    "\n",
    "print(arr)\n",
    "print(x)"
   ]
  },
  {
   "cell_type": "code",
   "execution_count": 13,
   "id": "ab309e4f",
   "metadata": {},
   "outputs": [
    {
     "name": "stdout",
     "output_type": "stream",
     "text": [
      "[42 33 10  1  9  8  1  6  8  7]\n",
      "[ 0  3 10  1  9  8  1  6  8  7]\n",
      "None\n",
      "[42 33 10  1  9  8  1  6  8  7]\n"
     ]
    }
   ],
   "source": [
    "#view, canvia l'original\n",
    "y = arr.view()\n",
    "arr[1] = 33\n",
    "\n",
    "print(arr)\n",
    "print(x)\n",
    "\n",
    "\n",
    "print(x.base)\n",
    "print(y.base)"
   ]
  },
  {
   "cell_type": "code",
   "execution_count": 15,
   "id": "948024f7",
   "metadata": {},
   "outputs": [
    {
     "name": "stdout",
     "output_type": "stream",
     "text": [
      "12.5\n",
      "8.0\n",
      "12.986531484580476\n",
      "1\n",
      "42\n",
      "10\n",
      "[42 33 10  1  9  8  1  6  8  7]\n",
      "[-0.91652155  0.99991186 -0.54402111  0.84147098  0.41211849  0.98935825\n",
      "  0.84147098 -0.2794155   0.98935825  0.6569866 ]\n",
      "[-0.39998531 -0.01327675 -0.83907153  0.54030231 -0.91113026 -0.14550003\n",
      "  0.54030231  0.96017029 -0.14550003  0.75390225]\n",
      "[  2.29138799 -75.3130148    0.64836083   1.55740772  -0.45231566\n",
      "  -6.79971146   1.55740772  -0.29100619  -6.79971146   0.87144798]\n",
      "1.0\n",
      "[0.73303829 0.57595865 0.17453293 0.01745329 0.15707963 0.13962634\n",
      " 0.01745329 0.10471976 0.13962634 0.12217305]\n",
      "53.41348144429457\n",
      "[8.69637471e+17 1.07321790e+14 1.10132329e+04 1.54308063e+00\n",
      " 4.05154203e+03 1.49047916e+03 1.54308063e+00 2.01715636e+02\n",
      " 1.49047916e+03 5.48317035e+02]\n",
      "[ 1  6  7  8  9 10 33 42]\n",
      "9\n",
      "1\n",
      "[ -9 -23  -9   8  -1  -7   5   2  -1]\n"
     ]
    }
   ],
   "source": [
    "aa = np.mean(arr)\n",
    "print(aa)\n",
    "\n",
    "bb=np.median(arr)\n",
    "print(bb)\n",
    "\n",
    "cc = np.std(arr)\n",
    "print(cc)\n",
    "\n",
    "dd= np.min(arr)\n",
    "print(dd)\n",
    "\n",
    "ee = np.max(arr)\n",
    "print(ee)\n",
    "\n",
    "ff= np.count_nonzero(arr)\n",
    "print(ff)\n",
    "\n",
    "gg= np.abs(arr)\n",
    "print(gg)\n",
    "\n",
    "hh= np.sin(arr)\n",
    "print(hh)\n",
    "\n",
    "ii= np.cos(arr)\n",
    "print(ii)\n",
    "\n",
    "jj= np.tan(arr)\n",
    "print(jj)\n",
    "\n",
    "kk = np.sin(np.pi/2)\n",
    "print(kk)\n",
    "\n",
    "ll= np.deg2rad(arr)\n",
    "print(ll)\n",
    "\n",
    "nn = np.hypot(arr[0], arr[1])\n",
    "print(nn)\n",
    "\n",
    "oo = np.cosh(arr)\n",
    "print(oo)\n",
    "\n",
    "pp  = np.unique(arr)\n",
    "print(pp)\n",
    "\n",
    "qq= np.lcm(arr[4], arr[3])\n",
    "print(qq)\n",
    "\n",
    "rr = np.gcd(arr[0], arr[6])\n",
    "print(rr)\n",
    "\n",
    "newarr = np.diff(arr)\n",
    "\n",
    "print(newarr)"
   ]
  },
  {
   "cell_type": "code",
   "execution_count": 16,
   "id": "e2ae9ff3",
   "metadata": {},
   "outputs": [
    {
     "name": "stdout",
     "output_type": "stream",
     "text": [
      "b'42'\n",
      "b'33'\n",
      "b'10'\n",
      "b'1'\n",
      "b'9'\n",
      "b'8'\n",
      "b'1'\n",
      "b'6'\n",
      "b'8'\n",
      "b'7'\n"
     ]
    }
   ],
   "source": [
    "\n",
    "for x in np.nditer(arr, flags=['buffered'], op_dtypes=['S']):\n",
    "    print(x)"
   ]
  },
  {
   "cell_type": "code",
   "execution_count": 17,
   "id": "90223652",
   "metadata": {},
   "outputs": [
    {
     "name": "stdout",
     "output_type": "stream",
     "text": [
      "(0,) 42\n",
      "(1,) 33\n",
      "(2,) 10\n",
      "(3,) 1\n",
      "(4,) 9\n",
      "(5,) 8\n",
      "(6,) 1\n",
      "(7,) 6\n",
      "(8,) 8\n",
      "(9,) 7\n"
     ]
    }
   ],
   "source": [
    "for idx, x in np.ndenumerate(arr):\n",
    "    print(idx, x)"
   ]
  },
  {
   "cell_type": "code",
   "execution_count": 18,
   "id": "f1189f41",
   "metadata": {},
   "outputs": [
    {
     "name": "stdout",
     "output_type": "stream",
     "text": [
      "42\n",
      "33\n",
      "10\n",
      "1\n",
      "9\n",
      "8\n",
      "1\n",
      "6\n",
      "8\n",
      "7\n"
     ]
    }
   ],
   "source": [
    "for x in np.nditer(arr):\n",
    "    print(x)"
   ]
  },
  {
   "cell_type": "code",
   "execution_count": 19,
   "id": "86e8898e",
   "metadata": {},
   "outputs": [
    {
     "name": "stdout",
     "output_type": "stream",
     "text": [
      "[ 1  1  6  7  8  8  9 10 33 42]\n",
      "(array([], dtype=int64),)\n",
      "(array([0, 2, 5, 7, 8], dtype=int64),)\n",
      "(array([1, 3, 4, 6, 9], dtype=int64),)\n",
      "0\n",
      "0\n",
      "[0 0 0]\n",
      "10\n"
     ]
    }
   ],
   "source": [
    "print(np.sort(arr))\n",
    "\n",
    "a = np.where(arr == 4)\n",
    "b = np.where(arr%2 == 0)\n",
    "c = np.where(arr%2 == 1)\n",
    "d = np.searchsorted(arr, 7)\n",
    "e = np.searchsorted(arr, 1, side='right')\n",
    "f= x = np.searchsorted(arr, [3, 5, 8])\n",
    "g= np.searchsorted(arr, 10)\n",
    "\n",
    "\n",
    "print(a)\n",
    "print(b)\n",
    "print(c)\n",
    "print(d)\n",
    "print(e)\n",
    "print(f)\n",
    "print(g)"
   ]
  },
  {
   "cell_type": "code",
   "execution_count": 20,
   "id": "96809051",
   "metadata": {},
   "outputs": [
    {
     "name": "stdout",
     "output_type": "stream",
     "text": [
      "[42 10  8  1  8]\n"
     ]
    }
   ],
   "source": [
    "np.sort(arr)\n",
    "h = [True, False, True, False, False, True, True, False, True,False]\n",
    "\n",
    "newArr = arr[h]\n",
    "\n",
    "print(newArr)"
   ]
  },
  {
   "cell_type": "code",
   "execution_count": 21,
   "id": "8509199c",
   "metadata": {},
   "outputs": [
    {
     "name": "stdout",
     "output_type": "stream",
     "text": [
      "[42 33 10  9  8  6  8  7]\n",
      "[True, True, True, False, True, True, False, True, True, True]\n"
     ]
    }
   ],
   "source": [
    "newList= []\n",
    "\n",
    "for i in arr:\n",
    "    if i > 5:\n",
    "        newList.append(True)\n",
    "    else:\n",
    "        newList.append(False)\n",
    "        \n",
    "newArray = arr[newList]\n",
    "print(newArray)\n",
    "print(newList)\n"
   ]
  },
  {
   "cell_type": "code",
   "execution_count": 22,
   "id": "2da7820d",
   "metadata": {},
   "outputs": [
    {
     "name": "stdout",
     "output_type": "stream",
     "text": [
      "[42 10  8  6  8]\n",
      "[True, False, True, False, False, True, False, True, True, False]\n"
     ]
    }
   ],
   "source": [
    "filtering = []\n",
    "\n",
    "for x in arr:\n",
    "    if x % 2 == 0:  \n",
    "        filtering.append(True)\n",
    "    else:\n",
    "        filtering.append(False)\n",
    "\n",
    "newFilter = arr[filtering]\n",
    "print(newFilter)\n",
    "print(filtering)\n"
   ]
  },
  {
   "cell_type": "code",
   "execution_count": 23,
   "id": "228e1d41",
   "metadata": {},
   "outputs": [
    {
     "name": "stdout",
     "output_type": "stream",
     "text": [
      "[[54 79 13 54  2]\n",
      " [67 28 11 58 18]\n",
      " [87 13 92  7  7]\n",
      " [77  0 32 21 36]\n",
      " [66 80 32 69 27]]\n",
      "    0   1   2   3   4\n",
      "0  54  79  13  54   2\n",
      "1  67  28  11  58  18\n",
      "2  87  13  92   7   7\n",
      "3  77   0  32  21  36\n",
      "4  66  80  32  69  27\n"
     ]
    }
   ],
   "source": [
    "#Crea un quadrat de XperX amb nums aleatoris de 0 a 100\n",
    "\n",
    "from numpy import random\n",
    "import pandas as pd\n",
    "\n",
    "quadrat = random.randint(100, size=(5, 5))\n",
    "\n",
    "print(quadrat)\n",
    "df = pd.DataFrame(quadrat)\n",
    "print(df)"
   ]
  },
  {
   "cell_type": "code",
   "execution_count": 24,
   "id": "0102c3b9",
   "metadata": {},
   "outputs": [
    {
     "name": "stdout",
     "output_type": "stream",
     "text": [
      "[[50 30 96 29 30]\n",
      " [68 41  7 53 39]]\n"
     ]
    }
   ],
   "source": [
    "#Crea una funció que donada una taula de dues dimensions, et calculi els totals per fila i els totals per columna.\n",
    "\n",
    "from numpy import random\n",
    "\n",
    "nouArr = random.randint(100, size=(2, 5))\n",
    "\n",
    "print(nouArr)"
   ]
  },
  {
   "cell_type": "code",
   "execution_count": 25,
   "id": "3695906f",
   "metadata": {},
   "outputs": [
    {
     "name": "stdout",
     "output_type": "stream",
     "text": [
      "    0   1   2   3   4\n",
      "0  50  30  96  29  30\n",
      "1  68  41   7  53  39\n",
      "Column 1 sum: 118\n",
      "Colum 2 sum: 71\n",
      "Colum 3 sum: 103\n",
      "Colum 4 sum: 82\n",
      "Colum 5 sum: 69\n",
      "[235 208]\n"
     ]
    }
   ],
   "source": [
    "\n",
    "dff= pd.DataFrame(nouArr)\n",
    "print(dff)\n",
    "\n",
    "#Columnes\n",
    "Total = dff[0].sum()\n",
    "print (\"Column 1 sum:\",Total)\n",
    "\n",
    "total2 = dff[1].sum()\n",
    "print(\"Colum 2 sum:\", total2)\n",
    "\n",
    "total3 = dff[2].sum()\n",
    "print(\"Colum 3 sum:\", total3)\n",
    "\n",
    "total4 = dff[3].sum()\n",
    "print(\"Colum 4 sum:\", total4)\n",
    "\n",
    "total5= dff[4].sum()\n",
    "print(\"Colum 5 sum:\", total5)\n",
    "\n",
    "#Files\n",
    "\n",
    "totalFila = np.sum(nouArr, axis=1)\n",
    "print(totalFila)"
   ]
  },
  {
   "cell_type": "code",
   "execution_count": 26,
   "id": "deb5c69c",
   "metadata": {},
   "outputs": [
    {
     "name": "stdout",
     "output_type": "stream",
     "text": [
      "[[ 1.         -0.68126337]\n",
      " [-0.68126337  1.        ]]\n",
      "[[ 1.          1.         -1.         -0.01529094]\n",
      " [ 1.          1.         -1.         -0.01529094]\n",
      " [-1.         -1.          1.          0.01529094]\n",
      " [-0.01529094 -0.01529094  0.01529094  1.        ]]\n"
     ]
    }
   ],
   "source": [
    "#Implementa manualment una funció que calculi el coeficient de correlació.\n",
    "#Informa’t-en sobre els seus usos i interpretació.\n",
    "\n",
    "#El coeficiente de correlación de Pearson mide la asociación lineal entre variables. Su valor se puede interpretar así:\n",
    "\n",
    "#+1 – Correlación positiva completa\n",
    "#+0,8 – Fuerte correlación positiva\n",
    "#+0,6 – Correlación positiva moderada\n",
    "#0 – sin correlación alguna\n",
    "#-0,6 – Correlación negativa moderada\n",
    "#-0,8 – Fuerte correlación negativa\n",
    "#-1 – Correlación negativa completa\n",
    "\n",
    "import matplotlib as plt\n",
    "\n",
    "def myfunc():\n",
    "    \n",
    "\n",
    "    my_rho = np.corrcoef(nouArr)\n",
    "\n",
    "    print(my_rho)\n",
    "\n",
    "    seed = 13\n",
    "    rand = np.random.RandomState(seed)\n",
    "\n",
    "    x = rand.uniform(0,1,100)\n",
    "    x = np.vstack((x,x*2+1))\n",
    "    x = np.vstack((x,-x[0,]*2+1))\n",
    "    x = np.vstack((x,rand.normal(1,3,100)))\n",
    "\n",
    "    rho = np.corrcoef(x)\n",
    "    print(rho)\n",
    "\n",
    "#L'entrada per aquesta funció sol ser una matriu d'un tamany mxn on: \n",
    "#Cada columna representa els valors d'una variable aleatoria\n",
    "#Cada fila representa una sola mostra de n variables aleatories\n",
    "#n representa el número total de diferents variables aleatories\n",
    "#m representa el número total de mostres per cada variable\n",
    "\n",
    "#Totes les entrades diagonals són 1 perquè perque el coeficient de correlació d'una variable amb ella mateixa sempre\n",
    "#donarà aquest valor. Les diagonals solen ser iguals entre elles.\n",
    "\n",
    "#Primer tenim una correlació completament positiva entre dues variables (+1)\n",
    "#Després l'altre coeficient de correlació hauria de ser proper a 0. \n",
    "\n",
    "#El primer rand.uniform() La trucada genera una distribucio uniforme aleatoria.\n",
    "# I vstack() apila verticalment altres matrius en ell. Així podrem accedir seqüencialment.  \n",
    "\n",
    "#el segon te una relació positiva completa amb el primer, el tercer té una correlació negativa \n",
    "#completa amb el primer i el quart és completament aleatori. Hauria de tenir una correlació de ~ 0."
   ]
  }
 ],
 "metadata": {
  "kernelspec": {
   "display_name": "Python 3 (ipykernel)",
   "language": "python",
   "name": "python3"
  },
  "language_info": {
   "codemirror_mode": {
    "name": "ipython",
    "version": 3
   },
   "file_extension": ".py",
   "mimetype": "text/x-python",
   "name": "python",
   "nbconvert_exporter": "python",
   "pygments_lexer": "ipython3",
   "version": "3.9.7"
  }
 },
 "nbformat": 4,
 "nbformat_minor": 5
}
